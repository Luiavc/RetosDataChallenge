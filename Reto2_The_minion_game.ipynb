{
 "cells": [
  {
   "cell_type": "code",
   "execution_count": null,
   "metadata": {},
   "outputs": [],
   "source": [
    "import math\n",
    "import re\n",
    "\n",
    "def minion_game(s):\n",
    "    # your code goes here\n",
    "    #Stuart Consonantes \n",
    "    #Kevin Vocales\n",
    "    len(s)>= 0 and len(s)<=(10**6)\n",
    "    s=s.upper()\n",
    "    vocales=[\"A\",\"E\",\"I\",\"O\",\"U\"]\n",
    "    Kevin=0\n",
    "    Stuart=0\n",
    "    for i in range (len(s)):\n",
    "        if s[i] in vocales:\n",
    "            Kevin+=(len(s)-i)\n",
    "        else:\n",
    "            Stuart+=(len(s)-i)\n",
    "    if Kevin>Stuart:\n",
    "        print(\"Kevin\"+\" \"+ \"%d\" %Kevin)\n",
    "    elif Stuart>Kevin:\n",
    "        print (\"Stuart\"+\" \"+ \"%d\" % Stuart)\n",
    "    else:\n",
    "        print (\"Draw\")\n",
    "    \n",
    "if __name__ == '__main__':\n",
    "    s = raw_input()\n",
    "    minion_game(s)"
   ]
  }
 ],
 "metadata": {
  "kernelspec": {
   "display_name": "Python 3",
   "language": "python",
   "name": "python3"
  },
  "language_info": {
   "codemirror_mode": {
    "name": "ipython",
    "version": 3
   },
   "file_extension": ".py",
   "mimetype": "text/x-python",
   "name": "python",
   "nbconvert_exporter": "python",
   "pygments_lexer": "ipython3",
   "version": "3.8.3"
  }
 },
 "nbformat": 4,
 "nbformat_minor": 4
}
