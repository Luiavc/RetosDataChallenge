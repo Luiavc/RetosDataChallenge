{
 "cells": [
  {
   "cell_type": "markdown",
   "metadata": {},
   "source": [
    "# Nobel Laureates, 1901-Present\n",
    "\n",
    "### Team #1 - DataChiks\n",
    "\n",
    "![Nobel_Prize.png](Nobel_Prize.png)\n",
    "\n",
    "En este reto vamos a responder la siguiente pregunta: \n",
    "\n",
    "### ¿Qué país ha ganado más premios en cada categoría? "
   ]
  },
  {
   "cell_type": "code",
   "execution_count": 2,
   "metadata": {},
   "outputs": [],
   "source": [
    "# Importando librerias\n",
    "import pandas as pd\n",
    "import matplotlib.pyplot as plt\n",
    "import seaborn as sns\n",
    "\n",
    "# Cargamos el archivo\n",
    "nobel = pd.read_csv(\"archive.csv\")"
   ]
  },
  {
   "cell_type": "code",
   "execution_count": 3,
   "metadata": {},
   "outputs": [
    {
     "data": {
      "text/html": [
       "<div>\n",
       "<style scoped>\n",
       "    .dataframe tbody tr th:only-of-type {\n",
       "        vertical-align: middle;\n",
       "    }\n",
       "\n",
       "    .dataframe tbody tr th {\n",
       "        vertical-align: top;\n",
       "    }\n",
       "\n",
       "    .dataframe thead th {\n",
       "        text-align: right;\n",
       "    }\n",
       "</style>\n",
       "<table border=\"1\" class=\"dataframe\">\n",
       "  <thead>\n",
       "    <tr style=\"text-align: right;\">\n",
       "      <th></th>\n",
       "      <th>Year</th>\n",
       "      <th>Category</th>\n",
       "      <th>Prize</th>\n",
       "      <th>Motivation</th>\n",
       "      <th>Prize Share</th>\n",
       "      <th>Laureate ID</th>\n",
       "      <th>Laureate Type</th>\n",
       "      <th>Full Name</th>\n",
       "      <th>Birth Date</th>\n",
       "      <th>Birth City</th>\n",
       "      <th>Birth Country</th>\n",
       "      <th>Sex</th>\n",
       "      <th>Organization Name</th>\n",
       "      <th>Organization City</th>\n",
       "      <th>Organization Country</th>\n",
       "      <th>Death Date</th>\n",
       "      <th>Death City</th>\n",
       "      <th>Death Country</th>\n",
       "    </tr>\n",
       "  </thead>\n",
       "  <tbody>\n",
       "    <tr>\n",
       "      <th>0</th>\n",
       "      <td>1901</td>\n",
       "      <td>Chemistry</td>\n",
       "      <td>The Nobel Prize in Chemistry 1901</td>\n",
       "      <td>\"in recognition of the extraordinary services ...</td>\n",
       "      <td>1/1</td>\n",
       "      <td>160</td>\n",
       "      <td>Individual</td>\n",
       "      <td>Jacobus Henricus van 't Hoff</td>\n",
       "      <td>1852-08-30</td>\n",
       "      <td>Rotterdam</td>\n",
       "      <td>Netherlands</td>\n",
       "      <td>Male</td>\n",
       "      <td>Berlin University</td>\n",
       "      <td>Berlin</td>\n",
       "      <td>Germany</td>\n",
       "      <td>1911-03-01</td>\n",
       "      <td>Berlin</td>\n",
       "      <td>Germany</td>\n",
       "    </tr>\n",
       "    <tr>\n",
       "      <th>1</th>\n",
       "      <td>1901</td>\n",
       "      <td>Literature</td>\n",
       "      <td>The Nobel Prize in Literature 1901</td>\n",
       "      <td>\"in special recognition of his poetic composit...</td>\n",
       "      <td>1/1</td>\n",
       "      <td>569</td>\n",
       "      <td>Individual</td>\n",
       "      <td>Sully Prudhomme</td>\n",
       "      <td>1839-03-16</td>\n",
       "      <td>Paris</td>\n",
       "      <td>France</td>\n",
       "      <td>Male</td>\n",
       "      <td>NaN</td>\n",
       "      <td>NaN</td>\n",
       "      <td>NaN</td>\n",
       "      <td>1907-09-07</td>\n",
       "      <td>Châtenay</td>\n",
       "      <td>France</td>\n",
       "    </tr>\n",
       "    <tr>\n",
       "      <th>2</th>\n",
       "      <td>1901</td>\n",
       "      <td>Medicine</td>\n",
       "      <td>The Nobel Prize in Physiology or Medicine 1901</td>\n",
       "      <td>\"for his work on serum therapy, especially its...</td>\n",
       "      <td>1/1</td>\n",
       "      <td>293</td>\n",
       "      <td>Individual</td>\n",
       "      <td>Emil Adolf von Behring</td>\n",
       "      <td>1854-03-15</td>\n",
       "      <td>Hansdorf (Lawice)</td>\n",
       "      <td>Prussia (Poland)</td>\n",
       "      <td>Male</td>\n",
       "      <td>Marburg University</td>\n",
       "      <td>Marburg</td>\n",
       "      <td>Germany</td>\n",
       "      <td>1917-03-31</td>\n",
       "      <td>Marburg</td>\n",
       "      <td>Germany</td>\n",
       "    </tr>\n",
       "    <tr>\n",
       "      <th>3</th>\n",
       "      <td>1901</td>\n",
       "      <td>Peace</td>\n",
       "      <td>The Nobel Peace Prize 1901</td>\n",
       "      <td>NaN</td>\n",
       "      <td>1/2</td>\n",
       "      <td>462</td>\n",
       "      <td>Individual</td>\n",
       "      <td>Jean Henry Dunant</td>\n",
       "      <td>1828-05-08</td>\n",
       "      <td>Geneva</td>\n",
       "      <td>Switzerland</td>\n",
       "      <td>Male</td>\n",
       "      <td>NaN</td>\n",
       "      <td>NaN</td>\n",
       "      <td>NaN</td>\n",
       "      <td>1910-10-30</td>\n",
       "      <td>Heiden</td>\n",
       "      <td>Switzerland</td>\n",
       "    </tr>\n",
       "    <tr>\n",
       "      <th>4</th>\n",
       "      <td>1901</td>\n",
       "      <td>Peace</td>\n",
       "      <td>The Nobel Peace Prize 1901</td>\n",
       "      <td>NaN</td>\n",
       "      <td>1/2</td>\n",
       "      <td>463</td>\n",
       "      <td>Individual</td>\n",
       "      <td>Frédéric Passy</td>\n",
       "      <td>1822-05-20</td>\n",
       "      <td>Paris</td>\n",
       "      <td>France</td>\n",
       "      <td>Male</td>\n",
       "      <td>NaN</td>\n",
       "      <td>NaN</td>\n",
       "      <td>NaN</td>\n",
       "      <td>1912-06-12</td>\n",
       "      <td>Paris</td>\n",
       "      <td>France</td>\n",
       "    </tr>\n",
       "  </tbody>\n",
       "</table>\n",
       "</div>"
      ],
      "text/plain": [
       "   Year    Category                                           Prize  \\\n",
       "0  1901   Chemistry               The Nobel Prize in Chemistry 1901   \n",
       "1  1901  Literature              The Nobel Prize in Literature 1901   \n",
       "2  1901    Medicine  The Nobel Prize in Physiology or Medicine 1901   \n",
       "3  1901       Peace                      The Nobel Peace Prize 1901   \n",
       "4  1901       Peace                      The Nobel Peace Prize 1901   \n",
       "\n",
       "                                          Motivation Prize Share  Laureate ID  \\\n",
       "0  \"in recognition of the extraordinary services ...         1/1          160   \n",
       "1  \"in special recognition of his poetic composit...         1/1          569   \n",
       "2  \"for his work on serum therapy, especially its...         1/1          293   \n",
       "3                                                NaN         1/2          462   \n",
       "4                                                NaN         1/2          463   \n",
       "\n",
       "  Laureate Type                     Full Name  Birth Date         Birth City  \\\n",
       "0    Individual  Jacobus Henricus van 't Hoff  1852-08-30          Rotterdam   \n",
       "1    Individual               Sully Prudhomme  1839-03-16              Paris   \n",
       "2    Individual        Emil Adolf von Behring  1854-03-15  Hansdorf (Lawice)   \n",
       "3    Individual             Jean Henry Dunant  1828-05-08             Geneva   \n",
       "4    Individual                Frédéric Passy  1822-05-20              Paris   \n",
       "\n",
       "      Birth Country   Sex   Organization Name Organization City  \\\n",
       "0       Netherlands  Male   Berlin University            Berlin   \n",
       "1            France  Male                 NaN               NaN   \n",
       "2  Prussia (Poland)  Male  Marburg University           Marburg   \n",
       "3       Switzerland  Male                 NaN               NaN   \n",
       "4            France  Male                 NaN               NaN   \n",
       "\n",
       "  Organization Country  Death Date Death City Death Country  \n",
       "0              Germany  1911-03-01     Berlin       Germany  \n",
       "1                  NaN  1907-09-07   Châtenay        France  \n",
       "2              Germany  1917-03-31    Marburg       Germany  \n",
       "3                  NaN  1910-10-30     Heiden   Switzerland  \n",
       "4                  NaN  1912-06-12      Paris        France  "
      ]
     },
     "execution_count": 3,
     "metadata": {},
     "output_type": "execute_result"
    }
   ],
   "source": [
    "nobel.head()"
   ]
  },
  {
   "cell_type": "code",
   "execution_count": 4,
   "metadata": {},
   "outputs": [
    {
     "data": {
      "text/plain": [
       "(969, 18)"
      ]
     },
     "execution_count": 4,
     "metadata": {},
     "output_type": "execute_result"
    }
   ],
   "source": [
    "nobel.shape"
   ]
  },
  {
   "cell_type": "code",
   "execution_count": 5,
   "metadata": {},
   "outputs": [
    {
     "name": "stdout",
     "output_type": "stream",
     "text": [
      "<class 'pandas.core.frame.DataFrame'>\n",
      "RangeIndex: 969 entries, 0 to 968\n",
      "Data columns (total 18 columns):\n",
      " #   Column                Non-Null Count  Dtype \n",
      "---  ------                --------------  ----- \n",
      " 0   Year                  969 non-null    int64 \n",
      " 1   Category              969 non-null    object\n",
      " 2   Prize                 969 non-null    object\n",
      " 3   Motivation            881 non-null    object\n",
      " 4   Prize Share           969 non-null    object\n",
      " 5   Laureate ID           969 non-null    int64 \n",
      " 6   Laureate Type         969 non-null    object\n",
      " 7   Full Name             969 non-null    object\n",
      " 8   Birth Date            940 non-null    object\n",
      " 9   Birth City            941 non-null    object\n",
      " 10  Birth Country         943 non-null    object\n",
      " 11  Sex                   943 non-null    object\n",
      " 12  Organization Name     722 non-null    object\n",
      " 13  Organization City     716 non-null    object\n",
      " 14  Organization Country  716 non-null    object\n",
      " 15  Death Date            617 non-null    object\n",
      " 16  Death City            599 non-null    object\n",
      " 17  Death Country         605 non-null    object\n",
      "dtypes: int64(2), object(16)\n",
      "memory usage: 136.4+ KB\n"
     ]
    }
   ],
   "source": [
    "nobel.info()"
   ]
  },
  {
   "cell_type": "markdown",
   "metadata": {},
   "source": [
    "##### Como podemos ver de 969 filas en la columna 'Birth Country' solo tenemos 943. A continuación veremos la cantidad de valores null por columna."
   ]
  },
  {
   "cell_type": "code",
   "execution_count": 6,
   "metadata": {},
   "outputs": [
    {
     "data": {
      "text/plain": [
       "Year                      0\n",
       "Category                  0\n",
       "Prize                     0\n",
       "Motivation               88\n",
       "Prize Share               0\n",
       "Laureate ID               0\n",
       "Laureate Type             0\n",
       "Full Name                 0\n",
       "Birth Date               29\n",
       "Birth City               28\n",
       "Birth Country            26\n",
       "Sex                      26\n",
       "Organization Name       247\n",
       "Organization City       253\n",
       "Organization Country    253\n",
       "Death Date              352\n",
       "Death City              370\n",
       "Death Country           364\n",
       "dtype: int64"
      ]
     },
     "execution_count": 6,
     "metadata": {},
     "output_type": "execute_result"
    }
   ],
   "source": [
    "#Cantidad de valores null\n",
    "nobel.isnull().sum()"
   ]
  },
  {
   "cell_type": "markdown",
   "metadata": {},
   "source": [
    " ##### Las categorías premiadas son: "
   ]
  },
  {
   "cell_type": "code",
   "execution_count": 7,
   "metadata": {},
   "outputs": [
    {
     "name": "stdout",
     "output_type": "stream",
     "text": [
      "['Chemistry' 'Literature' 'Medicine' 'Peace' 'Physics' 'Economics']\n"
     ]
    }
   ],
   "source": [
    "#Categorias de premios\n",
    "category = nobel['Category'].unique()\n",
    "print(category)"
   ]
  },
  {
   "cell_type": "code",
   "execution_count": 8,
   "metadata": {
    "scrolled": true
   },
   "outputs": [
    {
     "data": {
      "text/html": [
       "<div>\n",
       "<style scoped>\n",
       "    .dataframe tbody tr th:only-of-type {\n",
       "        vertical-align: middle;\n",
       "    }\n",
       "\n",
       "    .dataframe tbody tr th {\n",
       "        vertical-align: top;\n",
       "    }\n",
       "\n",
       "    .dataframe thead th {\n",
       "        text-align: right;\n",
       "    }\n",
       "</style>\n",
       "<table border=\"1\" class=\"dataframe\">\n",
       "  <thead>\n",
       "    <tr style=\"text-align: right;\">\n",
       "      <th></th>\n",
       "      <th>Year</th>\n",
       "      <th>Category</th>\n",
       "      <th>Prize</th>\n",
       "      <th>Motivation</th>\n",
       "      <th>Prize Share</th>\n",
       "      <th>Laureate ID</th>\n",
       "      <th>Laureate Type</th>\n",
       "      <th>Full Name</th>\n",
       "      <th>Birth Date</th>\n",
       "      <th>Birth City</th>\n",
       "      <th>Birth Country</th>\n",
       "      <th>Sex</th>\n",
       "      <th>Organization Name</th>\n",
       "      <th>Organization City</th>\n",
       "      <th>Organization Country</th>\n",
       "      <th>Death Date</th>\n",
       "      <th>Death City</th>\n",
       "      <th>Death Country</th>\n",
       "    </tr>\n",
       "  </thead>\n",
       "  <tbody>\n",
       "    <tr>\n",
       "      <th>958</th>\n",
       "      <td>2016</td>\n",
       "      <td>Chemistry</td>\n",
       "      <td>The Nobel Prize in Chemistry 2016</td>\n",
       "      <td>\"for the design and synthesis of molecular mac...</td>\n",
       "      <td>1/3</td>\n",
       "      <td>931</td>\n",
       "      <td>Individual</td>\n",
       "      <td>Jean-Pierre Sauvage</td>\n",
       "      <td>1944-10-21</td>\n",
       "      <td>Paris</td>\n",
       "      <td>France</td>\n",
       "      <td>Male</td>\n",
       "      <td>University of Strasbourg</td>\n",
       "      <td>Strasbourg</td>\n",
       "      <td>France</td>\n",
       "      <td>NaN</td>\n",
       "      <td>NaN</td>\n",
       "      <td>NaN</td>\n",
       "    </tr>\n",
       "    <tr>\n",
       "      <th>959</th>\n",
       "      <td>2016</td>\n",
       "      <td>Chemistry</td>\n",
       "      <td>The Nobel Prize in Chemistry 2016</td>\n",
       "      <td>\"for the design and synthesis of molecular mac...</td>\n",
       "      <td>1/3</td>\n",
       "      <td>932</td>\n",
       "      <td>Individual</td>\n",
       "      <td>Sir J. Fraser Stoddart</td>\n",
       "      <td>1942-05-24</td>\n",
       "      <td>Edinburgh</td>\n",
       "      <td>United Kingdom</td>\n",
       "      <td>Male</td>\n",
       "      <td>Northwestern University</td>\n",
       "      <td>Evanston, IL</td>\n",
       "      <td>United States of America</td>\n",
       "      <td>NaN</td>\n",
       "      <td>NaN</td>\n",
       "      <td>NaN</td>\n",
       "    </tr>\n",
       "    <tr>\n",
       "      <th>960</th>\n",
       "      <td>2016</td>\n",
       "      <td>Chemistry</td>\n",
       "      <td>The Nobel Prize in Chemistry 2016</td>\n",
       "      <td>\"for the design and synthesis of molecular mac...</td>\n",
       "      <td>1/3</td>\n",
       "      <td>933</td>\n",
       "      <td>Individual</td>\n",
       "      <td>Bernard L. Feringa</td>\n",
       "      <td>1951-05-18</td>\n",
       "      <td>Barger-Compascuum</td>\n",
       "      <td>Netherlands</td>\n",
       "      <td>Male</td>\n",
       "      <td>University of Groningen</td>\n",
       "      <td>Groningen</td>\n",
       "      <td>Netherlands</td>\n",
       "      <td>NaN</td>\n",
       "      <td>NaN</td>\n",
       "      <td>NaN</td>\n",
       "    </tr>\n",
       "  </tbody>\n",
       "</table>\n",
       "</div>"
      ],
      "text/plain": [
       "     Year   Category                              Prize  \\\n",
       "958  2016  Chemistry  The Nobel Prize in Chemistry 2016   \n",
       "959  2016  Chemistry  The Nobel Prize in Chemistry 2016   \n",
       "960  2016  Chemistry  The Nobel Prize in Chemistry 2016   \n",
       "\n",
       "                                            Motivation Prize Share  \\\n",
       "958  \"for the design and synthesis of molecular mac...         1/3   \n",
       "959  \"for the design and synthesis of molecular mac...         1/3   \n",
       "960  \"for the design and synthesis of molecular mac...         1/3   \n",
       "\n",
       "     Laureate ID Laureate Type               Full Name  Birth Date  \\\n",
       "958          931    Individual     Jean-Pierre Sauvage  1944-10-21   \n",
       "959          932    Individual  Sir J. Fraser Stoddart  1942-05-24   \n",
       "960          933    Individual      Bernard L. Feringa  1951-05-18   \n",
       "\n",
       "            Birth City   Birth Country   Sex         Organization Name  \\\n",
       "958              Paris          France  Male  University of Strasbourg   \n",
       "959          Edinburgh  United Kingdom  Male   Northwestern University   \n",
       "960  Barger-Compascuum     Netherlands  Male   University of Groningen   \n",
       "\n",
       "    Organization City      Organization Country Death Date Death City  \\\n",
       "958        Strasbourg                    France        NaN        NaN   \n",
       "959      Evanston, IL  United States of America        NaN        NaN   \n",
       "960         Groningen               Netherlands        NaN        NaN   \n",
       "\n",
       "    Death Country  \n",
       "958           NaN  \n",
       "959           NaN  \n",
       "960           NaN  "
      ]
     },
     "execution_count": 8,
     "metadata": {},
     "output_type": "execute_result"
    }
   ],
   "source": [
    "nobel_2016=nobel[nobel['Year']==2016]\n",
    "nobel_Che=nobel_2016[nobel_2016['Category']==\"Chemistry\"]\n",
    "nobel_Che.head()"
   ]
  },
  {
   "cell_type": "code",
   "execution_count": 22,
   "metadata": {
    "scrolled": true
   },
   "outputs": [
    {
     "data": {
      "text/html": [
       "<div>\n",
       "<style scoped>\n",
       "    .dataframe tbody tr th:only-of-type {\n",
       "        vertical-align: middle;\n",
       "    }\n",
       "\n",
       "    .dataframe tbody tr th {\n",
       "        vertical-align: top;\n",
       "    }\n",
       "\n",
       "    .dataframe thead th {\n",
       "        text-align: right;\n",
       "    }\n",
       "</style>\n",
       "<table border=\"1\" class=\"dataframe\">\n",
       "  <thead>\n",
       "    <tr style=\"text-align: right;\">\n",
       "      <th></th>\n",
       "      <th>Year</th>\n",
       "      <th>Category</th>\n",
       "      <th>Prize</th>\n",
       "      <th>Motivation</th>\n",
       "      <th>Prize Share</th>\n",
       "      <th>Laureate ID</th>\n",
       "      <th>Laureate Type</th>\n",
       "      <th>Full Name</th>\n",
       "      <th>Birth Date</th>\n",
       "      <th>Birth City</th>\n",
       "      <th>Birth Country</th>\n",
       "      <th>Sex</th>\n",
       "      <th>Organization Name</th>\n",
       "      <th>Organization City</th>\n",
       "      <th>Organization Country</th>\n",
       "      <th>Death Date</th>\n",
       "      <th>Death City</th>\n",
       "      <th>Death Country</th>\n",
       "    </tr>\n",
       "  </thead>\n",
       "  <tbody>\n",
       "    <tr>\n",
       "      <th>3</th>\n",
       "      <td>1901</td>\n",
       "      <td>Peace</td>\n",
       "      <td>The Nobel Peace Prize 1901</td>\n",
       "      <td>Sin motivation</td>\n",
       "      <td>1/2</td>\n",
       "      <td>462</td>\n",
       "      <td>Individual</td>\n",
       "      <td>Jean Henry Dunant</td>\n",
       "      <td>1828-05-08</td>\n",
       "      <td>Geneva</td>\n",
       "      <td>Switzerland</td>\n",
       "      <td>Male</td>\n",
       "      <td>NaN</td>\n",
       "      <td>NaN</td>\n",
       "      <td>NaN</td>\n",
       "      <td>1910-10-30</td>\n",
       "      <td>Heiden</td>\n",
       "      <td>Switzerland</td>\n",
       "    </tr>\n",
       "    <tr>\n",
       "      <th>4</th>\n",
       "      <td>1901</td>\n",
       "      <td>Peace</td>\n",
       "      <td>The Nobel Peace Prize 1901</td>\n",
       "      <td>Sin motivation</td>\n",
       "      <td>1/2</td>\n",
       "      <td>463</td>\n",
       "      <td>Individual</td>\n",
       "      <td>Frédéric Passy</td>\n",
       "      <td>1822-05-20</td>\n",
       "      <td>Paris</td>\n",
       "      <td>France</td>\n",
       "      <td>Male</td>\n",
       "      <td>NaN</td>\n",
       "      <td>NaN</td>\n",
       "      <td>NaN</td>\n",
       "      <td>1912-06-12</td>\n",
       "      <td>Paris</td>\n",
       "      <td>France</td>\n",
       "    </tr>\n",
       "    <tr>\n",
       "      <th>9</th>\n",
       "      <td>1902</td>\n",
       "      <td>Peace</td>\n",
       "      <td>The Nobel Peace Prize 1902</td>\n",
       "      <td>Sin motivation</td>\n",
       "      <td>1/2</td>\n",
       "      <td>464</td>\n",
       "      <td>Individual</td>\n",
       "      <td>Élie Ducommun</td>\n",
       "      <td>1833-02-19</td>\n",
       "      <td>Geneva</td>\n",
       "      <td>Switzerland</td>\n",
       "      <td>Male</td>\n",
       "      <td>NaN</td>\n",
       "      <td>NaN</td>\n",
       "      <td>NaN</td>\n",
       "      <td>1906-12-07</td>\n",
       "      <td>Bern</td>\n",
       "      <td>Switzerland</td>\n",
       "    </tr>\n",
       "    <tr>\n",
       "      <th>10</th>\n",
       "      <td>1902</td>\n",
       "      <td>Peace</td>\n",
       "      <td>The Nobel Peace Prize 1902</td>\n",
       "      <td>Sin motivation</td>\n",
       "      <td>1/2</td>\n",
       "      <td>465</td>\n",
       "      <td>Individual</td>\n",
       "      <td>Charles Albert Gobat</td>\n",
       "      <td>1843-05-21</td>\n",
       "      <td>Tramelan</td>\n",
       "      <td>Switzerland</td>\n",
       "      <td>Male</td>\n",
       "      <td>NaN</td>\n",
       "      <td>NaN</td>\n",
       "      <td>NaN</td>\n",
       "      <td>1914-03-16</td>\n",
       "      <td>Bern</td>\n",
       "      <td>Switzerland</td>\n",
       "    </tr>\n",
       "    <tr>\n",
       "      <th>16</th>\n",
       "      <td>1903</td>\n",
       "      <td>Peace</td>\n",
       "      <td>The Nobel Peace Prize 1903</td>\n",
       "      <td>Sin motivation</td>\n",
       "      <td>1/1</td>\n",
       "      <td>466</td>\n",
       "      <td>Individual</td>\n",
       "      <td>William Randal Cremer</td>\n",
       "      <td>1828-03-18</td>\n",
       "      <td>Fareham</td>\n",
       "      <td>United Kingdom</td>\n",
       "      <td>Male</td>\n",
       "      <td>NaN</td>\n",
       "      <td>NaN</td>\n",
       "      <td>NaN</td>\n",
       "      <td>1908-07-22</td>\n",
       "      <td>London</td>\n",
       "      <td>United Kingdom</td>\n",
       "    </tr>\n",
       "    <tr>\n",
       "      <th>...</th>\n",
       "      <td>...</td>\n",
       "      <td>...</td>\n",
       "      <td>...</td>\n",
       "      <td>...</td>\n",
       "      <td>...</td>\n",
       "      <td>...</td>\n",
       "      <td>...</td>\n",
       "      <td>...</td>\n",
       "      <td>...</td>\n",
       "      <td>...</td>\n",
       "      <td>...</td>\n",
       "      <td>...</td>\n",
       "      <td>...</td>\n",
       "      <td>...</td>\n",
       "      <td>...</td>\n",
       "      <td>...</td>\n",
       "      <td>...</td>\n",
       "      <td>...</td>\n",
       "    </tr>\n",
       "    <tr>\n",
       "      <th>927</th>\n",
       "      <td>2013</td>\n",
       "      <td>Peace</td>\n",
       "      <td>The Nobel Peace Prize 2013</td>\n",
       "      <td>\"for its extensive efforts to eliminate chemic...</td>\n",
       "      <td>1/1</td>\n",
       "      <td>893</td>\n",
       "      <td>Organization</td>\n",
       "      <td>Organisation for the Prohibition of Chemical W...</td>\n",
       "      <td>NaN</td>\n",
       "      <td>NaN</td>\n",
       "      <td>NaN</td>\n",
       "      <td>NaN</td>\n",
       "      <td>NaN</td>\n",
       "      <td>NaN</td>\n",
       "      <td>NaN</td>\n",
       "      <td>NaN</td>\n",
       "      <td>NaN</td>\n",
       "      <td>NaN</td>\n",
       "    </tr>\n",
       "    <tr>\n",
       "      <th>939</th>\n",
       "      <td>2014</td>\n",
       "      <td>Peace</td>\n",
       "      <td>The Nobel Peace Prize 2014</td>\n",
       "      <td>\"for their struggle against the suppression of...</td>\n",
       "      <td>1/2</td>\n",
       "      <td>913</td>\n",
       "      <td>Individual</td>\n",
       "      <td>Kailash Satyarthi</td>\n",
       "      <td>1954-01-11</td>\n",
       "      <td>Vidisha</td>\n",
       "      <td>India</td>\n",
       "      <td>Male</td>\n",
       "      <td>NaN</td>\n",
       "      <td>NaN</td>\n",
       "      <td>NaN</td>\n",
       "      <td>NaN</td>\n",
       "      <td>NaN</td>\n",
       "      <td>NaN</td>\n",
       "    </tr>\n",
       "    <tr>\n",
       "      <th>940</th>\n",
       "      <td>2014</td>\n",
       "      <td>Peace</td>\n",
       "      <td>The Nobel Peace Prize 2014</td>\n",
       "      <td>\"for their struggle against the suppression of...</td>\n",
       "      <td>1/2</td>\n",
       "      <td>914</td>\n",
       "      <td>Individual</td>\n",
       "      <td>Malala Yousafzai</td>\n",
       "      <td>1997-07-12</td>\n",
       "      <td>Mingora</td>\n",
       "      <td>Pakistan</td>\n",
       "      <td>Female</td>\n",
       "      <td>NaN</td>\n",
       "      <td>NaN</td>\n",
       "      <td>NaN</td>\n",
       "      <td>NaN</td>\n",
       "      <td>NaN</td>\n",
       "      <td>NaN</td>\n",
       "    </tr>\n",
       "    <tr>\n",
       "      <th>955</th>\n",
       "      <td>2015</td>\n",
       "      <td>Peace</td>\n",
       "      <td>The Nobel Peace Prize 2015</td>\n",
       "      <td>\"for its decisive contribution to the building...</td>\n",
       "      <td>1/1</td>\n",
       "      <td>925</td>\n",
       "      <td>Organization</td>\n",
       "      <td>National Dialogue Quartet</td>\n",
       "      <td>NaN</td>\n",
       "      <td>NaN</td>\n",
       "      <td>NaN</td>\n",
       "      <td>NaN</td>\n",
       "      <td>NaN</td>\n",
       "      <td>NaN</td>\n",
       "      <td>NaN</td>\n",
       "      <td>NaN</td>\n",
       "      <td>NaN</td>\n",
       "      <td>NaN</td>\n",
       "    </tr>\n",
       "    <tr>\n",
       "      <th>965</th>\n",
       "      <td>2016</td>\n",
       "      <td>Peace</td>\n",
       "      <td>The Nobel Peace Prize 2016</td>\n",
       "      <td>\"for his resolute efforts to bring the country...</td>\n",
       "      <td>1/1</td>\n",
       "      <td>934</td>\n",
       "      <td>Individual</td>\n",
       "      <td>Juan Manuel Santos</td>\n",
       "      <td>1951-08-10</td>\n",
       "      <td>Bogotá</td>\n",
       "      <td>Colombia</td>\n",
       "      <td>Male</td>\n",
       "      <td>NaN</td>\n",
       "      <td>NaN</td>\n",
       "      <td>NaN</td>\n",
       "      <td>NaN</td>\n",
       "      <td>NaN</td>\n",
       "      <td>NaN</td>\n",
       "    </tr>\n",
       "  </tbody>\n",
       "</table>\n",
       "<p>130 rows × 18 columns</p>\n",
       "</div>"
      ],
      "text/plain": [
       "     Year Category                       Prize  \\\n",
       "3    1901    Peace  The Nobel Peace Prize 1901   \n",
       "4    1901    Peace  The Nobel Peace Prize 1901   \n",
       "9    1902    Peace  The Nobel Peace Prize 1902   \n",
       "10   1902    Peace  The Nobel Peace Prize 1902   \n",
       "16   1903    Peace  The Nobel Peace Prize 1903   \n",
       "..    ...      ...                         ...   \n",
       "927  2013    Peace  The Nobel Peace Prize 2013   \n",
       "939  2014    Peace  The Nobel Peace Prize 2014   \n",
       "940  2014    Peace  The Nobel Peace Prize 2014   \n",
       "955  2015    Peace  The Nobel Peace Prize 2015   \n",
       "965  2016    Peace  The Nobel Peace Prize 2016   \n",
       "\n",
       "                                            Motivation Prize Share  \\\n",
       "3                                       Sin motivation         1/2   \n",
       "4                                       Sin motivation         1/2   \n",
       "9                                       Sin motivation         1/2   \n",
       "10                                      Sin motivation         1/2   \n",
       "16                                      Sin motivation         1/1   \n",
       "..                                                 ...         ...   \n",
       "927  \"for its extensive efforts to eliminate chemic...         1/1   \n",
       "939  \"for their struggle against the suppression of...         1/2   \n",
       "940  \"for their struggle against the suppression of...         1/2   \n",
       "955  \"for its decisive contribution to the building...         1/1   \n",
       "965  \"for his resolute efforts to bring the country...         1/1   \n",
       "\n",
       "     Laureate ID Laureate Type  \\\n",
       "3            462    Individual   \n",
       "4            463    Individual   \n",
       "9            464    Individual   \n",
       "10           465    Individual   \n",
       "16           466    Individual   \n",
       "..           ...           ...   \n",
       "927          893  Organization   \n",
       "939          913    Individual   \n",
       "940          914    Individual   \n",
       "955          925  Organization   \n",
       "965          934    Individual   \n",
       "\n",
       "                                             Full Name  Birth Date Birth City  \\\n",
       "3                                    Jean Henry Dunant  1828-05-08     Geneva   \n",
       "4                                       Frédéric Passy  1822-05-20      Paris   \n",
       "9                                        Élie Ducommun  1833-02-19     Geneva   \n",
       "10                                Charles Albert Gobat  1843-05-21   Tramelan   \n",
       "16                               William Randal Cremer  1828-03-18    Fareham   \n",
       "..                                                 ...         ...        ...   \n",
       "927  Organisation for the Prohibition of Chemical W...         NaN        NaN   \n",
       "939                                  Kailash Satyarthi  1954-01-11    Vidisha   \n",
       "940                                   Malala Yousafzai  1997-07-12    Mingora   \n",
       "955                          National Dialogue Quartet         NaN        NaN   \n",
       "965                                 Juan Manuel Santos  1951-08-10     Bogotá   \n",
       "\n",
       "      Birth Country     Sex Organization Name Organization City  \\\n",
       "3       Switzerland    Male               NaN               NaN   \n",
       "4            France    Male               NaN               NaN   \n",
       "9       Switzerland    Male               NaN               NaN   \n",
       "10      Switzerland    Male               NaN               NaN   \n",
       "16   United Kingdom    Male               NaN               NaN   \n",
       "..              ...     ...               ...               ...   \n",
       "927             NaN     NaN               NaN               NaN   \n",
       "939           India    Male               NaN               NaN   \n",
       "940        Pakistan  Female               NaN               NaN   \n",
       "955             NaN     NaN               NaN               NaN   \n",
       "965        Colombia    Male               NaN               NaN   \n",
       "\n",
       "    Organization Country  Death Date Death City   Death Country  \n",
       "3                    NaN  1910-10-30     Heiden     Switzerland  \n",
       "4                    NaN  1912-06-12      Paris          France  \n",
       "9                    NaN  1906-12-07       Bern     Switzerland  \n",
       "10                   NaN  1914-03-16       Bern     Switzerland  \n",
       "16                   NaN  1908-07-22     London  United Kingdom  \n",
       "..                   ...         ...        ...             ...  \n",
       "927                  NaN         NaN        NaN             NaN  \n",
       "939                  NaN         NaN        NaN             NaN  \n",
       "940                  NaN         NaN        NaN             NaN  \n",
       "955                  NaN         NaN        NaN             NaN  \n",
       "965                  NaN         NaN        NaN             NaN  \n",
       "\n",
       "[130 rows x 18 columns]"
      ]
     },
     "execution_count": 22,
     "metadata": {},
     "output_type": "execute_result"
    }
   ],
   "source": [
    "#Reemplazamos valores null en país de nacimiento por 'sin pais'\n",
    "nobel['Motivation'].fillna('Sin motivation', inplace=True)\n",
    "\n",
    "nobel_2016=nobel[nobel['Category']==\"Peace\"]\n",
    "nobel_2016\n",
    "#nobel_Che=nobel_2016[nobel_2016['Category']==\"Chemistry\"]\n",
    "#nobel_Che.head()"
   ]
  },
  {
   "cell_type": "code",
   "execution_count": 19,
   "metadata": {},
   "outputs": [
    {
     "name": "stdout",
     "output_type": "stream",
     "text": [
      "['1/1' '1/2' '1/4' '1/3']\n",
      "565\n",
      "579\n"
     ]
    }
   ],
   "source": [
    "#Prize Share? \n",
    "prize_share = nobel['Prize Share'].unique()\n",
    "Motivation= nobel['Motivation'].nunique()\n",
    "print(prize_share)\n",
    "print(Motivation)\n",
    "prize=nobel['Prize'].nunique()\n",
    "print(prize)"
   ]
  },
  {
   "cell_type": "code",
   "execution_count": 9,
   "metadata": {},
   "outputs": [
    {
     "name": "stdout",
     "output_type": "stream",
     "text": [
      "Category\n",
      "Economics      48\n",
      "Peace          97\n",
      "Medicine      107\n",
      "Chemistry     108\n",
      "Literature    109\n",
      "Physics       110\n",
      "Name: Prize, dtype: int64\n"
     ]
    }
   ],
   "source": [
    "#Se cuentan la cantidad de premios unico\n",
    "cantidad_piezas=nobel.groupby('Category').Prize.nunique().sort_values(ascending=True)\n",
    "print(cantidad_piezas)\n",
    "#Total 579 2016\n",
    "#2018 Total 590 -Fuentes externa"
   ]
  },
  {
   "cell_type": "code",
   "execution_count": 24,
   "metadata": {},
   "outputs": [
    {
     "name": "stdout",
     "output_type": "stream",
     "text": [
      "            Organization Country  Prize\n",
      "Category                               \n",
      "Economics                     10     48\n",
      "Peace                          2     97\n",
      "Medicine                      22    107\n",
      "Chemistry                     20    108\n",
      "Literature                     0    109\n",
      "Physics                       21    110\n"
     ]
    }
   ],
   "source": [
    "tipos_uni = nobel.groupby(['Category'])[['Organization Country', 'Prize']].nunique().sort_values('Prize',ascending=True)\n",
    "print(tipos_uni)"
   ]
  },
  {
   "cell_type": "code",
   "execution_count": 73,
   "metadata": {},
   "outputs": [
    {
     "name": "stdout",
     "output_type": "stream",
     "text": [
      "     Category  Birth Country\n",
      "0   Economics             83\n",
      "1       Peace            104\n",
      "2  Literature            113\n",
      "3   Chemistry            194\n",
      "4     Physics            222\n",
      "5    Medicine            227\n"
     ]
    }
   ],
   "source": [
    "tipos = nobel.groupby('Category').count()[['Birth Country']].sort_values(by='Birth Country',ascending=True).reset_index()\n",
    "print(tipos)"
   ]
  },
  {
   "cell_type": "code",
   "execution_count": 17,
   "metadata": {},
   "outputs": [
    {
     "name": "stdout",
     "output_type": "stream",
     "text": [
      "Total de los paises 29 Total de premios nobel 579\n",
      "Total paises de nacimiento 121\n",
      "Laureate ID 904\n"
     ]
    }
   ],
   "source": [
    "Total_Paises=nobel['Organization Country'].nunique()\n",
    "Total_Prize=nobel['Prize'].nunique()\n",
    "print (\"Total de los paises\",Total_Paises, \"Total de premios nobel\",Total_Prize)\n",
    "Total_Paises_Nacimiento=nobel['Birth Country'].nunique()\n",
    "print (\"Total paises de nacimiento\",Total_Paises_Nacimiento)\n",
    "Total_id=nobel['Laureate ID'].nunique()\n",
    "print(\"Laureate ID\",Total_id)"
   ]
  },
  {
   "cell_type": "code",
   "execution_count": 24,
   "metadata": {},
   "outputs": [
    {
     "data": {
      "text/plain": [
       "United States of America               363\n",
       "United Kingdom                          91\n",
       "Germany                                 51\n",
       "France                                  40\n",
       "Federal Republic of Germany             26\n",
       "Switzerland                             22\n",
       "Japan                                   18\n",
       "Sweden                                  17\n",
       "Union of Soviet Socialist Republics     11\n",
       "Netherlands                             11\n",
       "Denmark                                  9\n",
       "Canada                                   7\n",
       "Belgium                                  6\n",
       "Austria                                  6\n",
       "Italy                                    6\n",
       "Australia                                6\n",
       "Israel                                   5\n",
       "Norway                                   5\n",
       "Russia                                   3\n",
       "Argentina                                2\n",
       "Portugal                                 2\n",
       "China                                    2\n",
       "India                                    1\n",
       "Finland                                  1\n",
       "Alsace (then Germany, now France)        1\n",
       "Hungary                                  1\n",
       "Spain                                    1\n",
       "Czechoslovakia                           1\n",
       "Ireland                                  1\n",
       "Name: Organization Country, dtype: int64"
      ]
     },
     "execution_count": 24,
     "metadata": {},
     "output_type": "execute_result"
    }
   ],
   "source": [
    "nobel['Organization Country'].value_counts()"
   ]
  },
  {
   "cell_type": "code",
   "execution_count": 22,
   "metadata": {},
   "outputs": [
    {
     "data": {
      "text/plain": [
       "2016"
      ]
     },
     "execution_count": 22,
     "metadata": {},
     "output_type": "execute_result"
    }
   ],
   "source": [
    "nobel['Year'].max()"
   ]
  },
  {
   "cell_type": "code",
   "execution_count": 8,
   "metadata": {},
   "outputs": [
    {
     "name": "stdout",
     "output_type": "stream",
     "text": [
      "<class 'pandas.core.frame.DataFrame'>\n",
      "Int64Index: 30 entries, 24 to 955\n",
      "Data columns (total 18 columns):\n",
      " #   Column                Non-Null Count  Dtype \n",
      "---  ------                --------------  ----- \n",
      " 0   Year                  30 non-null     int64 \n",
      " 1   Category              30 non-null     object\n",
      " 2   Prize                 30 non-null     object\n",
      " 3   Motivation            11 non-null     object\n",
      " 4   Prize Share           30 non-null     object\n",
      " 5   Laureate ID           30 non-null     int64 \n",
      " 6   Laureate Type         30 non-null     object\n",
      " 7   Full Name             30 non-null     object\n",
      " 8   Birth Date            4 non-null      object\n",
      " 9   Birth City            4 non-null      object\n",
      " 10  Birth Country         4 non-null      object\n",
      " 11  Sex                   4 non-null      object\n",
      " 12  Organization Name     0 non-null      object\n",
      " 13  Organization City     0 non-null      object\n",
      " 14  Organization Country  0 non-null      object\n",
      " 15  Death Date            2 non-null      object\n",
      " 16  Death City            2 non-null      object\n",
      " 17  Death Country         2 non-null      object\n",
      "dtypes: int64(2), object(16)\n",
      "memory usage: 4.5+ KB\n"
     ]
    }
   ],
   "source": [
    "#Se crea data frame con las organizaciones y verificamos la información obtenida\n",
    "orgDF = nobel[nobel[\"Laureate Type\"] == \"Organization\"]\n",
    "orgDF.info()"
   ]
  },
  {
   "cell_type": "markdown",
   "metadata": {},
   "source": [
    "##### Como podemos observar hay en total 30 organizaciones, de las cuales tenemos la mayoría de datos en null y solo tenemos información de los países en 4 organizaciones.\n"
   ]
  },
  {
   "cell_type": "code",
   "execution_count": 9,
   "metadata": {},
   "outputs": [
    {
     "data": {
      "text/plain": [
       "array(['Peace'], dtype=object)"
      ]
     },
     "execution_count": 9,
     "metadata": {},
     "output_type": "execute_result"
    }
   ],
   "source": [
    "#Consultamos en que categorías los ganadores han sido organizaciones\n",
    "nobel.loc[nobel[\"Laureate Type\"] == \"Organization\"]['Category'].unique()"
   ]
  },
  {
   "cell_type": "markdown",
   "metadata": {},
   "source": [
    "Aquí vemos que las organizaciones solo han ganado el premio nobel de paz\n",
    "\n",
    "#### Separamos cada categoría en un Data frame\n",
    "\n",
    "### Premio Nobel de Paz\n"
   ]
  },
  {
   "cell_type": "code",
   "execution_count": 31,
   "metadata": {},
   "outputs": [],
   "source": [
    "#Reemplazamos valores null en país de nacimiento por 'sin pais'\n",
    "nobel['Birth Country'].fillna('sin pais', inplace=True)"
   ]
  },
  {
   "cell_type": "code",
   "execution_count": 32,
   "metadata": {},
   "outputs": [
    {
     "name": "stdout",
     "output_type": "stream",
     "text": [
      "<class 'pandas.core.frame.DataFrame'>\n",
      "Int64Index: 130 entries, 3 to 965\n",
      "Data columns (total 18 columns):\n",
      " #   Column                Non-Null Count  Dtype \n",
      "---  ------                --------------  ----- \n",
      " 0   Year                  130 non-null    int64 \n",
      " 1   Category              130 non-null    object\n",
      " 2   Prize                 130 non-null    object\n",
      " 3   Motivation            42 non-null     object\n",
      " 4   Prize Share           130 non-null    object\n",
      " 5   Laureate ID           130 non-null    int64 \n",
      " 6   Laureate Type         130 non-null    object\n",
      " 7   Full Name             130 non-null    object\n",
      " 8   Birth Date            104 non-null    object\n",
      " 9   Birth City            103 non-null    object\n",
      " 10  Birth Country         130 non-null    object\n",
      " 11  Sex                   104 non-null    object\n",
      " 12  Organization Name     4 non-null      object\n",
      " 13  Organization City     4 non-null      object\n",
      " 14  Organization Country  4 non-null      object\n",
      " 15  Death Date            72 non-null     object\n",
      " 16  Death City            69 non-null     object\n",
      " 17  Death Country         70 non-null     object\n",
      "dtypes: int64(2), object(16)\n",
      "memory usage: 19.3+ KB\n",
      "\n",
      " ----Países con más premios ganados en Nobel de Paz----\n"
     ]
    },
    {
     "data": {
      "text/plain": [
       "sin pais                    26\n",
       "United States of America    19\n",
       "France                       9\n",
       "United Kingdom               5\n",
       "Germany                      5\n",
       "Name: Birth Country, dtype: int64"
      ]
     },
     "execution_count": 32,
     "metadata": {},
     "output_type": "execute_result"
    }
   ],
   "source": [
    "\n",
    "#Category Peace\n",
    "PeaceDF = nobel[(nobel.Category == 'Peace')]\n",
    "PeaceDF.info()\n",
    "print(\"\\n ----Países con más premios ganados en Nobel de Paz----\")\n",
    "#Aquí incluimos los datos null ya que hacen parte de las organizaciones\n",
    "PeaceDF['Birth Country'].value_counts(dropna=False).head()\n"
   ]
  },
  {
   "cell_type": "code",
   "execution_count": 33,
   "metadata": {},
   "outputs": [
    {
     "data": {
      "image/png": "[encoded data removed]",
      "text/plain": [
       "<Figure size 432x288 with 1 Axes>"
      ]
     },
     "metadata": {
      "needs_background": "light"
     },
     "output_type": "display_data"
    },
    {
     "name": "stdout",
     "output_type": "stream",
     "text": [
      "sin pais                    26\n",
      "United States of America    19\n",
      "France                       9\n",
      "United Kingdom               5\n",
      "Germany                      5\n",
      "Sweden                       5\n",
      "Northern Ireland             4\n",
      "Switzerland                  3\n",
      "South Africa                 3\n",
      "Egypt                        3\n",
      "Name: Birth Country, dtype: int64\n"
     ]
    }
   ],
   "source": [
    "#Consultamos los diez paises que han más han ganado el premio nobel de paz, incluyendo las organizaciones\n",
    "countryPeace = PeaceDF['Birth Country'].value_counts(dropna=False).head(10)\n",
    "countryPeace.plot(kind= 'bar', color='purple')\n",
    "plt.legend(['Peace'])\n",
    "plt.show()\n",
    "\n",
    "print(countryPeace)"
   ]
  },
  {
   "cell_type": "markdown",
   "metadata": {},
   "source": [
    "### Premio Nobel de Química"
   ]
  },
  {
   "cell_type": "code",
   "execution_count": 12,
   "metadata": {},
   "outputs": [
    {
     "name": "stdout",
     "output_type": "stream",
     "text": [
      "<class 'pandas.core.frame.DataFrame'>\n",
      "Int64Index: 194 entries, 0 to 960\n",
      "Data columns (total 18 columns):\n",
      " #   Column                Non-Null Count  Dtype \n",
      "---  ------                --------------  ----- \n",
      " 0   Year                  194 non-null    int64 \n",
      " 1   Category              194 non-null    object\n",
      " 2   Prize                 194 non-null    object\n",
      " 3   Motivation            194 non-null    object\n",
      " 4   Prize Share           194 non-null    object\n",
      " 5   Laureate ID           194 non-null    int64 \n",
      " 6   Laureate Type         194 non-null    object\n",
      " 7   Full Name             194 non-null    object\n",
      " 8   Birth Date            193 non-null    object\n",
      " 9   Birth City            194 non-null    object\n",
      " 10  Birth Country         194 non-null    object\n",
      " 11  Sex                   194 non-null    object\n",
      " 12  Organization Name     192 non-null    object\n",
      " 13  Organization City     188 non-null    object\n",
      " 14  Organization Country  189 non-null    object\n",
      " 15  Death Date            122 non-null    object\n",
      " 16  Death City            119 non-null    object\n",
      " 17  Death Country         119 non-null    object\n",
      "dtypes: int64(2), object(16)\n",
      "memory usage: 28.8+ KB\n",
      "\n",
      " ----País con más premios ganados en Química----\n",
      "0    United States of America\n",
      "dtype: object\n"
     ]
    }
   ],
   "source": [
    "#Category Chemistry\n",
    "\n",
    "ChemistryDF = nobel[(nobel.Category == 'Chemistry')]\n",
    "ChemistryDF.info()\n",
    "\n",
    "print(\"\\n ----País con más premios ganados en Química----\")\n",
    "print(ChemistryDF['Birth Country'].mode())"
   ]
  },
  {
   "cell_type": "code",
   "execution_count": 13,
   "metadata": {},
   "outputs": [
    {
     "data": {
      "image/png": "[encoded data removed]",
      "text/plain": [
       "<Figure size 432x288 with 1 Axes>"
      ]
     },
     "metadata": {
      "needs_background": "light"
     },
     "output_type": "display_data"
    },
    {
     "name": "stdout",
     "output_type": "stream",
     "text": [
      "United States of America    57\n",
      "Germany                     23\n",
      "United Kingdom              22\n",
      "France                      10\n",
      "Japan                        7\n",
      "Netherlands                  5\n",
      "Sweden                       5\n",
      "Austria                      4\n",
      "Russia                       4\n",
      "Canada                       4\n",
      "Name: Birth Country, dtype: int64\n"
     ]
    }
   ],
   "source": [
    "#Consultamos los diez paises que han más han ganado el premio nobel de química\n",
    "countryChemistry = ChemistryDF['Birth Country'].value_counts().head(10)\n",
    "countryChemistry.plot(kind= 'bar', color='palegreen')\n",
    "plt.legend(['Chemistry'])\n",
    "plt.show()\n",
    "#Este dataset es del 2016\n",
    "#141 \n",
    "#Para el 2018 se los premios eran de 110\n",
    "print(countryChemistry)"
   ]
  },
  {
   "cell_type": "markdown",
   "metadata": {},
   "source": [
    "### Premio Nobel de Literatura"
   ]
  },
  {
   "cell_type": "code",
   "execution_count": 14,
   "metadata": {},
   "outputs": [
    {
     "name": "stdout",
     "output_type": "stream",
     "text": [
      "<class 'pandas.core.frame.DataFrame'>\n",
      "Int64Index: 113 entries, 1 to 963\n",
      "Data columns (total 18 columns):\n",
      " #   Column                Non-Null Count  Dtype \n",
      "---  ------                --------------  ----- \n",
      " 0   Year                  113 non-null    int64 \n",
      " 1   Category              113 non-null    object\n",
      " 2   Prize                 113 non-null    object\n",
      " 3   Motivation            113 non-null    object\n",
      " 4   Prize Share           113 non-null    object\n",
      " 5   Laureate ID           113 non-null    int64 \n",
      " 6   Laureate Type         113 non-null    object\n",
      " 7   Full Name             113 non-null    object\n",
      " 8   Birth Date            113 non-null    object\n",
      " 9   Birth City            112 non-null    object\n",
      " 10  Birth Country         113 non-null    object\n",
      " 11  Sex                   113 non-null    object\n",
      " 12  Organization Name     0 non-null      object\n",
      " 13  Organization City     0 non-null      object\n",
      " 14  Organization Country  0 non-null      object\n",
      " 15  Death Date            96 non-null     object\n",
      " 16  Death City            96 non-null     object\n",
      " 17  Death Country         96 non-null     object\n",
      "dtypes: int64(2), object(16)\n",
      "memory usage: 16.8+ KB\n",
      "\n",
      " ----País con más premios ganados en Literatura----\n"
     ]
    },
    {
     "data": {
      "text/plain": [
       "0    France\n",
       "dtype: object"
      ]
     },
     "execution_count": 14,
     "metadata": {},
     "output_type": "execute_result"
    }
   ],
   "source": [
    "#Category Literature\n",
    "LiteratureDF = nobel[(nobel.Category == 'Literature')]\n",
    "LiteratureDF.info()\n",
    "print(\"\\n ----País con más premios ganados en Literatura----\")\n",
    "LiteratureDF['Birth Country'].mode()"
   ]
  },
  {
   "cell_type": "code",
   "execution_count": 15,
   "metadata": {},
   "outputs": [
    {
     "data": {
      "image/png": "[encoded data removed]",
      "text/plain": [
       "<Figure size 432x288 with 1 Axes>"
      ]
     },
     "metadata": {
      "needs_background": "light"
     },
     "output_type": "display_data"
    },
    {
     "name": "stdout",
     "output_type": "stream",
     "text": [
      "France                      11\n",
      "United States of America     9\n",
      "Sweden                       7\n",
      "United Kingdom               6\n",
      "Spain                        5\n",
      "Italy                        5\n",
      "Germany                      4\n",
      "Russia                       4\n",
      "Denmark                      4\n",
      "Ireland                      3\n",
      "Name: Birth Country, dtype: int64\n"
     ]
    }
   ],
   "source": [
    "#Consultamos los diez paises que han más han ganado el premio nobel de literatura\n",
    "countryLiterature = LiteratureDF['Birth Country'].value_counts().head(10)\n",
    "countryLiterature.plot(kind= 'bar', color='orange')\n",
    "plt.legend(['Literature'])\n",
    "plt.show()\n",
    "\n",
    "print(countryLiterature)"
   ]
  },
  {
   "cell_type": "code",
   "execution_count": 27,
   "metadata": {},
   "outputs": [
    {
     "name": "stdout",
     "output_type": "stream",
     "text": [
      "<class 'pandas.core.frame.DataFrame'>\n",
      "Int64Index: 227 entries, 2 to 964\n",
      "Data columns (total 18 columns):\n",
      " #   Column                Non-Null Count  Dtype \n",
      "---  ------                --------------  ----- \n",
      " 0   Year                  227 non-null    int64 \n",
      " 1   Category              227 non-null    object\n",
      " 2   Prize                 227 non-null    object\n",
      " 3   Motivation            227 non-null    object\n",
      " 4   Prize Share           227 non-null    object\n",
      " 5   Laureate ID           227 non-null    int64 \n",
      " 6   Laureate Type         227 non-null    object\n",
      " 7   Full Name             227 non-null    object\n",
      " 8   Birth Date            227 non-null    object\n",
      " 9   Birth City            227 non-null    object\n",
      " 10  Birth Country         227 non-null    object\n",
      " 11  Sex                   227 non-null    object\n",
      " 12  Organization Name     225 non-null    object\n",
      " 13  Organization City     222 non-null    object\n",
      " 14  Organization Country  221 non-null    object\n",
      " 15  Death Date            154 non-null    object\n",
      " 16  Death City            150 non-null    object\n",
      " 17  Death Country         150 non-null    object\n",
      "dtypes: int64(2), object(16)\n",
      "memory usage: 33.7+ KB\n",
      "\n",
      " ----País con más premios ganados en Medicina----\n"
     ]
    },
    {
     "data": {
      "text/plain": [
       "0    United States of America\n",
       "dtype: object"
      ]
     },
     "execution_count": 27,
     "metadata": {},
     "output_type": "execute_result"
    }
   ],
   "source": [
    "#Category Medicine\n",
    "MedicineDF = nobel[(nobel.Category == 'Medicine')]\n",
    "MedicineDF.info()\n",
    "print(\"\\n ----País con más premios ganados en Medicina----\")\n",
    "MedicineDF['Birth Country'].mode()"
   ]
  },
  {
   "cell_type": "code",
   "execution_count": 28,
   "metadata": {},
   "outputs": [
    {
     "data": {
      "image/png": "[encoded data removed]",
      "text/plain": [
       "<Figure size 432x288 with 1 Axes>"
      ]
     },
     "metadata": {
      "needs_background": "light"
     },
     "output_type": "display_data"
    },
    {
     "name": "stdout",
     "output_type": "stream",
     "text": [
      "United States of America               74\n",
      "United Kingdom                         26\n",
      "Germany                                18\n",
      "France                                 12\n",
      "Australia                               8\n",
      "Sweden                                  7\n",
      "Switzerland                             6\n",
      "Italy                                   6\n",
      "Japan                                   5\n",
      "Austria                                 5\n",
      "Canada                                  4\n",
      "Germany (Poland)                        4\n",
      "Denmark                                 3\n",
      "Prussia (Poland)                        3\n",
      "South Africa                            3\n",
      "Belgium                                 3\n",
      "Scotland                                3\n",
      "China                                   2\n",
      "India                                   2\n",
      "Norway                                  2\n",
      "Germany (Russia)                        2\n",
      "Argentina                               2\n",
      "Russian Empire (Ukraine)                2\n",
      "Austria-Hungary (Czech Republic)        2\n",
      "Portugal                                2\n",
      "Netherlands                             2\n",
      "Spain                                   2\n",
      "Russian Empire (Finland)                1\n",
      "W&uuml;rttemberg (Germany)              1\n",
      "Russia                                  1\n",
      "Austria-Hungary (Hungary)               1\n",
      "Hungary                                 1\n",
      "Poland (Lithuania)                      1\n",
      "Faroe Islands (Denmark)                 1\n",
      "Venezuela                               1\n",
      "Luxembourg                              1\n",
      "Romania                                 1\n",
      "Ireland                                 1\n",
      "Mecklenburg (Germany)                   1\n",
      "New Zealand                             1\n",
      "Austrian Empire (Austria)               1\n",
      "Brazil                                  1\n",
      "Java, Dutch East Indies (Indonesia)     1\n",
      "Poland                                  1\n",
      "Name: Birth Country, dtype: int64\n"
     ]
    }
   ],
   "source": [
    "#Consultamos los diez paises que han más han ganado el premio nobel de Medicina\n",
    "countryMedicine = MedicineDF['Birth Country'].value_counts()\n",
    "countryMedicine.plot(kind= 'bar', color='yellow')\n",
    "plt.legend(['Medicine'])\n",
    "plt.show()\n",
    "#167 en total con un head de 10 \n",
    "#en el 2018 habian \n",
    "\n",
    "print(countryMedicine)"
   ]
  },
  {
   "cell_type": "code",
   "execution_count": 17,
   "metadata": {},
   "outputs": [
    {
     "name": "stdout",
     "output_type": "stream",
     "text": [
      "<class 'pandas.core.frame.DataFrame'>\n",
      "Int64Index: 222 entries, 5 to 968\n",
      "Data columns (total 18 columns):\n",
      " #   Column                Non-Null Count  Dtype \n",
      "---  ------                --------------  ----- \n",
      " 0   Year                  222 non-null    int64 \n",
      " 1   Category              222 non-null    object\n",
      " 2   Prize                 222 non-null    object\n",
      " 3   Motivation            222 non-null    object\n",
      " 4   Prize Share           222 non-null    object\n",
      " 5   Laureate ID           222 non-null    int64 \n",
      " 6   Laureate Type         222 non-null    object\n",
      " 7   Full Name             222 non-null    object\n",
      " 8   Birth Date            220 non-null    object\n",
      " 9   Birth City            222 non-null    object\n",
      " 10  Birth Country         222 non-null    object\n",
      " 11  Sex                   222 non-null    object\n",
      " 12  Organization Name     220 non-null    object\n",
      " 13  Organization City     221 non-null    object\n",
      " 14  Organization Country  221 non-null    object\n",
      " 15  Death Date            131 non-null    object\n",
      " 16  Death City            123 non-null    object\n",
      " 17  Death Country         128 non-null    object\n",
      "dtypes: int64(2), object(16)\n",
      "memory usage: 33.0+ KB\n",
      "\n",
      " ----País con más premios ganados en Física----\n"
     ]
    },
    {
     "data": {
      "text/plain": [
       "0    United States of America\n",
       "dtype: object"
      ]
     },
     "execution_count": 17,
     "metadata": {},
     "output_type": "execute_result"
    }
   ],
   "source": [
    "#Category Physics\n",
    "PhysicsDF = nobel[(nobel.Category == 'Physics')]\n",
    "PhysicsDF.info()\n",
    "print(\"\\n ----País con más premios ganados en Física----\")\n",
    "PhysicsDF['Birth Country'].mode()"
   ]
  },
  {
   "cell_type": "code",
   "execution_count": 27,
   "metadata": {},
   "outputs": [
    {
     "data": {
      "image/png": "[encoded data removed]",
      "text/plain": [
       "<Figure size 432x288 with 1 Axes>"
      ]
     },
     "metadata": {
      "needs_background": "light"
     },
     "output_type": "display_data"
    },
    {
     "name": "stdout",
     "output_type": "stream",
     "text": [
      "United States of America    70\n",
      "United Kingdom              22\n",
      "Germany                     19\n",
      "Japan                       14\n",
      "Netherlands                  9\n",
      "Russia                       8\n",
      "France                       8\n",
      "China                        6\n",
      "Italy                        5\n",
      "West Germany (Germany)       4\n",
      "Name: Birth Country, dtype: int64\n"
     ]
    }
   ],
   "source": [
    "#Consultamos los diez paises que han más han ganado el premio nobel de Medicina\n",
    "countryPhysics = PhysicsDF['Birth Country'].value_counts().head(10)\n",
    "countryPhysics.plot(kind= 'bar', color='green')\n",
    "plt.legend(['Physics'])\n",
    "plt.show()\n",
    "\n",
    "print(countryPhysics)"
   ]
  },
  {
   "cell_type": "code",
   "execution_count": 18,
   "metadata": {},
   "outputs": [
    {
     "name": "stdout",
     "output_type": "stream",
     "text": [
      "<class 'pandas.core.frame.DataFrame'>\n",
      "Int64Index: 83 entries, 410 to 962\n",
      "Data columns (total 18 columns):\n",
      " #   Column                Non-Null Count  Dtype \n",
      "---  ------                --------------  ----- \n",
      " 0   Year                  83 non-null     int64 \n",
      " 1   Category              83 non-null     object\n",
      " 2   Prize                 83 non-null     object\n",
      " 3   Motivation            83 non-null     object\n",
      " 4   Prize Share           83 non-null     object\n",
      " 5   Laureate ID           83 non-null     int64 \n",
      " 6   Laureate Type         83 non-null     object\n",
      " 7   Full Name             83 non-null     object\n",
      " 8   Birth Date            83 non-null     object\n",
      " 9   Birth City            83 non-null     object\n",
      " 10  Birth Country         83 non-null     object\n",
      " 11  Sex                   83 non-null     object\n",
      " 12  Organization Name     81 non-null     object\n",
      " 13  Organization City     81 non-null     object\n",
      " 14  Organization Country  81 non-null     object\n",
      " 15  Death Date            42 non-null     object\n",
      " 16  Death City            42 non-null     object\n",
      " 17  Death Country         42 non-null     object\n",
      "dtypes: int64(2), object(16)\n",
      "memory usage: 12.3+ KB\n",
      "\n",
      " ----País con más premios ganados en Economía----\n"
     ]
    },
    {
     "data": {
      "text/plain": [
       "0    United States of America\n",
       "dtype: object"
      ]
     },
     "execution_count": 18,
     "metadata": {},
     "output_type": "execute_result"
    }
   ],
   "source": [
    "#Category Economics\n",
    "EconomicsDF = nobel[(nobel.Category == 'Economics')]\n",
    "EconomicsDF.info()\n",
    "print(\"\\n ----País con más premios ganados en Economía----\")\n",
    "EconomicsDF['Birth Country'].mode()"
   ]
  },
  {
   "cell_type": "code",
   "execution_count": 28,
   "metadata": {},
   "outputs": [
    {
     "data": {
      "image/png": "[encoded data removed]",
      "text/plain": [
       "<Figure size 432x288 with 1 Axes>"
      ]
     },
     "metadata": {
      "needs_background": "light"
     },
     "output_type": "display_data"
    },
    {
     "name": "stdout",
     "output_type": "stream",
     "text": [
      "United States of America    47\n",
      "United Kingdom               7\n",
      "Norway                       4\n",
      "France                       3\n",
      "Canada                       3\n",
      "Sweden                       2\n",
      "Netherlands                  2\n",
      "Russia                       2\n",
      "Russian Empire (Belarus)     1\n",
      "Hungary                      1\n",
      "Name: Birth Country, dtype: int64\n"
     ]
    }
   ],
   "source": [
    "#Consultamos los diez paises que han más han ganado el premio nobel de Medicina\n",
    "countryEconomic = EconomicsDF['Birth Country'].value_counts().head(10)\n",
    "countryEconomic.plot(kind= 'bar', color='blue')\n",
    "plt.legend(['Economic'])\n",
    "plt.show()\n",
    "\n",
    "print(countryEconomic)"
   ]
  },
  {
   "cell_type": "markdown",
   "metadata": {},
   "source": [
    "## Premios ganados por genero y categoría"
   ]
  },
  {
   "cell_type": "code",
   "execution_count": 24,
   "metadata": {},
   "outputs": [
    {
     "data": {
      "image/png": "[encoded data removed]",
      "text/plain": [
       "<Figure size 432x288 with 1 Axes>"
      ]
     },
     "metadata": {
      "needs_background": "light"
     },
     "output_type": "display_data"
    }
   ],
   "source": [
    "sns.countplot(x='Category',data=nobel,hue='Sex')\n",
    "plt.show()"
   ]
  },
  {
   "cell_type": "code",
   "execution_count": 20,
   "metadata": {},
   "outputs": [
    {
     "data": {
      "text/plain": [
       "False"
      ]
     },
     "execution_count": 20,
     "metadata": {},
     "output_type": "execute_result"
    }
   ],
   "source": [
    "nobel.duplicated().any()"
   ]
  },
  {
   "cell_type": "code",
   "execution_count": 21,
   "metadata": {},
   "outputs": [
    {
     "data": {
      "text/plain": [
       "(969, 18)"
      ]
     },
     "execution_count": 21,
     "metadata": {},
     "output_type": "execute_result"
    }
   ],
   "source": [
    "#Dropeo duplicados del dataset\n",
    "data = nobel.drop_duplicates()\n",
    "data.shape"
   ]
  },
  {
   "cell_type": "code",
   "execution_count": null,
   "metadata": {},
   "outputs": [],
   "source": []
  }
 ],
 "metadata": {
  "kernelspec": {
   "display_name": "Python 3",
   "language": "python",
   "name": "python3"
  },
  "language_info": {
   "codemirror_mode": {
    "name": "ipython",
    "version": 3
   },
   "file_extension": ".py",
   "mimetype": "text/x-python",
   "name": "python",
   "nbconvert_exporter": "python",
   "pygments_lexer": "ipython3",
   "version": "3.8.3"
  }
 },
 "nbformat": 4,
 "nbformat_minor": 4
}
